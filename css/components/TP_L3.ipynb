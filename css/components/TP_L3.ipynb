{
 "cells": [
  {
   "cell_type": "markdown",
   "metadata": {},
   "source": [
    "# Notebook Jupyter pour traitement des données en TP\n",
    "\n",
    "### Principe\n",
    "\n",
    "Ce Notebook est un cadre de travail qui utilise Python pour traiter les données récoltées durant les expériences. Il permet de les tracer simplement ainsi que de réaliser des ajustements (linéaires par exemple, mais si besoin par une fonction arbitraire). Il faut voir cet outil, à notre niveau, comme un tableau Excel gratuit et amélioré.\n",
    "\n",
    "Les Notebooks reposent sur des cellules de code à executer : pour cela, cliquer sur la cellule puis sur shift+entrée, les opérations sont alors calculées et, si le code le demande, un résultat est affiché."
   ]
  },
  {
   "cell_type": "markdown",
   "metadata": {},
   "source": [
    "### Un tout premier exemple\n",
    "\n",
    "La cellule ci-dessous, commençant par ```a = 10```, est une cellule de code. Réalisez les étapes suivantes : \n",
    "1. Executez cette cellule pour afficher le résultat de 10+2 (cliquez dessus puis sur shift+entrée)\n",
    "2. Modifiez cette cellule pour calculer 10<sup>2</sup>+2<sup>3</sup>=108 à la place (10<sup>2</sup> se note```10**2``` en Python)"
   ]
  },
  {
   "cell_type": "code",
   "execution_count": null,
   "metadata": {},
   "outputs": [],
   "source": [
    "a = 10\n",
    "b = 2\n",
    "c = a + b\n",
    "print(c)"
   ]
  },
  {
   "cell_type": "markdown",
   "metadata": {},
   "source": [
    "Nous ne ferons ici aucune étape plus compliquée, rappelez vous de cliquer sur une cellule pour la modifier, puis sur shift+entrée pour la lancer. Une dernière étape avant de continuer, executez la cellule ci-dessous qui permet de charger les fonctionnalités essentielles de Python."
   ]
  },
  {
   "cell_type": "code",
   "execution_count": null,
   "metadata": {},
   "outputs": [],
   "source": [
    "import numpy as np\n",
    "import matplotlib.pyplot as plt\n",
    "import scipy.optimize as spsopt\n",
    "print(\"Cette cellule a bien été executée, vous pouvez passez à la suite.\")"
   ]
  },
  {
   "cell_type": "markdown",
   "metadata": {},
   "source": [
    "### Un exemple plus concret\n",
    "\n",
    "Dans cette section, vous allez découvrir comment entrer des données, les tracer puis les ajuster sous Python. En premier lieu, executez la cellule suivante pour mettre en mémoire les données qu'elle contient (aucun affichage n'est demandé en sortie)."
   ]
  },
  {
   "cell_type": "code",
   "execution_count": null,
   "metadata": {},
   "outputs": [],
   "source": [
    "X = np.array([0, 1., 2.4, 3.3, 5.4, 7.6])\n",
    "\n",
    "Y = np.array([0.05, 3.04, 4.42, 5.045, 5.989, 6.1])\n",
    "\n",
    "Y_err = np.array([0.2, 0.2, 0.3, 0.3, 0.2, 0.2])"
   ]
  },
  {
   "cell_type": "markdown",
   "metadata": {},
   "source": [
    "La cellule suivante trace des données avec les incertitudes rentrées : une courbe devrait apparaître lorsque vous l'executez."
   ]
  },
  {
   "cell_type": "code",
   "execution_count": null,
   "metadata": {},
   "outputs": [],
   "source": [
    "plt.errorbar(X, Y, Y_err, marker='o', linestyle='none')\n",
    "plt.xlabel(\"Ascisse à rentrer (unité ??)\")\n",
    "plt.ylabel(\"Ordonnée à rentrer (unité ??)\")\n",
    "plt.show()"
   ]
  },
  {
   "cell_type": "markdown",
   "metadata": {},
   "source": [
    "La cellule suivante ajuste ces données, avec les incertitudes rentrées par une relaxation exponentielle, c'est-à-dire par la fonction $$f(x) = A (1-e^{-Bx}) $$ \n",
    "puis retourne les valeurs de $A$ et $B$ optimales ainsi que les incertitudes sur ces paramètres. Notez qu'il faut pour cela fournir une estimation, même très approximative, de ces paramètres (ici on prend 3 pour $A$ et 4 pour $B$)"
   ]
  },
  {
   "cell_type": "code",
   "execution_count": null,
   "metadata": {},
   "outputs": [],
   "source": [
    "def fonction_ajustement(X, A, B):      # la fonction d'ajustement f(x), qui dépend de x et des coefficients A et B\n",
    "    return A * (1 - np.exp(-B * X))    # l'expression mathématique de cette fonction\n",
    "\n",
    "# la fonction d'ajustement f(x) dépend de deux paramètres A et B, que l'on estime à A=3 et B=4\n",
    "estimation_parametres = np.array([3, 4])\n",
    "\n",
    "# ci-dessous, une routine d'optimisation réalise l'ajustement demandé\n",
    "(coeff_fit, coeff_err) = spsopt.curve_fit(fonction_ajustement,\n",
    "                                          X,\n",
    "                                          Y,\n",
    "                                          estimation_parametres,\n",
    "                                          Y_err,\n",
    "                                          absolute_sigma=True)\n",
    "\n",
    "# il y a ici deux paramètres d'ajustement A et B, s'il y en a plus (ou moins) il faut adapter le code ci-dessous\n",
    "A_fit = np.abs(coeff_fit[0])\n",
    "B_fit = np.abs(coeff_fit[1]) \n",
    "\n",
    "[A_err, B_err] = np.sqrt(np.diag(coeff_err))\n",
    "\n",
    "print(\"A = \" + str(A_fit) + \" +/- \" + str(A_err) + \" et B = \" + str(B_fit) +\n",
    "      ' +/- ' + str(B_err))"
   ]
  },
  {
   "cell_type": "markdown",
   "metadata": {},
   "source": [
    "Enfin, la cellule suivante trace sur une même courbe les données expérimentales et l'ajustement réalisé."
   ]
  },
  {
   "cell_type": "code",
   "execution_count": null,
   "metadata": {},
   "outputs": [],
   "source": [
    "plt.errorbar(X, Y, Y_err, marker='o', linestyle='none', label='données exérimentales')\n",
    "\n",
    "X_aj = np.linspace(np.min(X), np.max(X), 100)\n",
    "Y_aj = fonction_ajustement(X_aj, A_fit, B_fit)\n",
    "plt.plot(X_aj,\n",
    "         Y_aj,\n",
    "         linestyle='-',\n",
    "         label='ajustement par la fonction théorique (???)')\n",
    "\n",
    "plt.xlabel(\"Ascisse à rentrer (unité ??)\")\n",
    "plt.ylabel(\"Ordonnée à rentrer (unité ??)\")\n",
    "plt.legend()\n",
    "plt.show()"
   ]
  },
  {
   "cell_type": "markdown",
   "metadata": {},
   "source": [
    "### A vous de jouer !\n",
    "\n",
    "Vous avez maintenant toutes les clefs en main pour répondre aux questions du test Moodle en adaptant l'exemple précédent. Pour plus de simplicité, les cellules de l'exemple précédent sont recopiées ci-dessous, modifiez-les puis executez-les pour répondre au test."
   ]
  },
  {
   "cell_type": "code",
   "execution_count": null,
   "metadata": {},
   "outputs": [],
   "source": [
    "X = np.array([0, 1., 2.4, 3.3, 5.4, 7.6])\n",
    "\n",
    "Y = np.array([0.05, 3.04, 4.42, 5.045, 5.989, 6.1])\n",
    "\n",
    "Y_err = np.array([0.2, 0.2, 0.3, 0.3, 0.2, 0.2])"
   ]
  },
  {
   "cell_type": "code",
   "execution_count": null,
   "metadata": {},
   "outputs": [],
   "source": [
    "plt.errorbar(X, Y, Y_err, marker='o', linestyle='none')\n",
    "plt.xlabel(\"Ascisse à rentrer (unité ??)\")\n",
    "plt.ylabel(\"Ordonnée à rentrer (unité ??)\")\n",
    "plt.show()"
   ]
  },
  {
   "cell_type": "code",
   "execution_count": null,
   "metadata": {},
   "outputs": [],
   "source": [
    "def fonction_ajustement(X, A, B):      # la fonction d'ajustement f(x), qui dépend de x et des coefficients A et B\n",
    "    return A * (1 - np.exp(-B * X))    # l'expression mathématique de cette fonction\n",
    "\n",
    "# la fonction d'ajustement f(x) dépend de deux paramètres A et B, que l'on estime à A=3 et B=4\n",
    "estimation_parametres = np.array([3, 4])\n",
    "\n",
    "# ci-dessous, une routine d'optimisation réalise l'ajustement demandé\n",
    "(coeff_fit, coeff_err) = spsopt.curve_fit(fonction_ajustement,\n",
    "                                          X,\n",
    "                                          Y,\n",
    "                                          estimation_parametres,\n",
    "                                          Y_err,\n",
    "                                          absolute_sigma=True)\n",
    "\n",
    "# il y a ici deux paramètres d'ajustement A et B, s'il y en a plus (ou moins) il faut adapter le code ci-dessous\n",
    "A_fit = np.abs(coeff_fit[0])\n",
    "B_fit = np.abs(coeff_fit[1]) \n",
    "\n",
    "[A_err, B_err] = np.sqrt(np.diag(coeff_err))\n",
    "\n",
    "print(\"A = \" + str(A_fit) + \" +/- \" + str(A_err) + \" et B = \" + str(B_fit) +\n",
    "      ' +/- ' + str(B_err))"
   ]
  },
  {
   "cell_type": "code",
   "execution_count": null,
   "metadata": {},
   "outputs": [],
   "source": [
    "plt.errorbar(X, Y, Y_err, marker='o', linestyle='none', label='données exérimentales')\n",
    "\n",
    "X_aj = np.linspace(np.min(X), np.max(X), 100)\n",
    "Y_aj = fonction_ajustement(X_aj, A_fit, B_fit)\n",
    "plt.plot(X_aj,\n",
    "         Y_aj,\n",
    "         linestyle='-',\n",
    "         label='ajustement par la fonction théorique (???)')\n",
    "\n",
    "plt.xlabel(\"Ascisse à rentrer (unité ??)\")\n",
    "plt.ylabel(\"Ordonnée à rentrer (unité ??)\")\n",
    "plt.legend()\n",
    "plt.show()"
   ]
  },
  {
   "cell_type": "code",
   "execution_count": null,
   "metadata": {},
   "outputs": [],
   "source": []
  }
 ],
 "metadata": {
  "kernelspec": {
   "display_name": "Python 3",
   "language": "python",
   "name": "python3"
  },
  "language_info": {
   "codemirror_mode": {
    "name": "ipython",
    "version": 3
   },
   "file_extension": ".py",
   "mimetype": "text/x-python",
   "name": "python",
   "nbconvert_exporter": "python",
   "pygments_lexer": "ipython3",
   "version": "3.8.2"
  }
 },
 "nbformat": 4,
 "nbformat_minor": 2
}
